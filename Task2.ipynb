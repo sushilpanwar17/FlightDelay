{
 "cells": [
  {
   "cell_type": "markdown",
   "id": "a968dfbc",
   "metadata": {},
   "source": [
    "### Import Libraries to Get Started"
   ]
  },
  {
   "cell_type": "code",
   "execution_count": 1,
   "id": "30e611b1",
   "metadata": {},
   "outputs": [],
   "source": [
    "import pandas as pd \n",
    "import numpy as np\n",
    "from matplotlib import pyplot as plt\n",
    "%matplotlib inline\n",
    "import sklearn \n",
    "import seaborn as sns\n",
    "import math\n"
   ]
  },
  {
   "cell_type": "code",
   "execution_count": 2,
   "id": "99e161dd",
   "metadata": {
    "scrolled": true
   },
   "outputs": [
    {
     "data": {
      "text/html": [
       "<div>\n",
       "<style scoped>\n",
       "    .dataframe tbody tr th:only-of-type {\n",
       "        vertical-align: middle;\n",
       "    }\n",
       "\n",
       "    .dataframe tbody tr th {\n",
       "        vertical-align: top;\n",
       "    }\n",
       "\n",
       "    .dataframe thead th {\n",
       "        text-align: right;\n",
       "    }\n",
       "</style>\n",
       "<table border=\"1\" class=\"dataframe\">\n",
       "  <thead>\n",
       "    <tr style=\"text-align: right;\">\n",
       "      <th></th>\n",
       "      <th>MONTH</th>\n",
       "      <th>DAY_OF_MONTH</th>\n",
       "      <th>DAY_OF_WEEK</th>\n",
       "      <th>OP_UNIQUE_CARRIER</th>\n",
       "      <th>TAIL_NUM</th>\n",
       "      <th>DEST</th>\n",
       "      <th>DEP_DELAY</th>\n",
       "      <th>CRS_ELAPSED_TIME</th>\n",
       "      <th>DISTANCE</th>\n",
       "      <th>CRS_DEP_M</th>\n",
       "      <th>...</th>\n",
       "      <th>Dew Point</th>\n",
       "      <th>Humidity</th>\n",
       "      <th>Wind</th>\n",
       "      <th>Wind Speed</th>\n",
       "      <th>Wind Gust</th>\n",
       "      <th>Pressure</th>\n",
       "      <th>Condition</th>\n",
       "      <th>sch_dep</th>\n",
       "      <th>sch_arr</th>\n",
       "      <th>TAXI_OUT</th>\n",
       "    </tr>\n",
       "  </thead>\n",
       "  <tbody>\n",
       "    <tr>\n",
       "      <th>0</th>\n",
       "      <td>11</td>\n",
       "      <td>1</td>\n",
       "      <td>5</td>\n",
       "      <td>B6</td>\n",
       "      <td>N828JB</td>\n",
       "      <td>CHS</td>\n",
       "      <td>-1</td>\n",
       "      <td>124</td>\n",
       "      <td>636</td>\n",
       "      <td>324</td>\n",
       "      <td>...</td>\n",
       "      <td>34</td>\n",
       "      <td>58</td>\n",
       "      <td>W</td>\n",
       "      <td>25</td>\n",
       "      <td>38</td>\n",
       "      <td>29.86</td>\n",
       "      <td>Fair / Windy</td>\n",
       "      <td>9</td>\n",
       "      <td>17</td>\n",
       "      <td>14</td>\n",
       "    </tr>\n",
       "    <tr>\n",
       "      <th>1</th>\n",
       "      <td>11</td>\n",
       "      <td>1</td>\n",
       "      <td>5</td>\n",
       "      <td>B6</td>\n",
       "      <td>N992JB</td>\n",
       "      <td>LAX</td>\n",
       "      <td>-7</td>\n",
       "      <td>371</td>\n",
       "      <td>2475</td>\n",
       "      <td>340</td>\n",
       "      <td>...</td>\n",
       "      <td>34</td>\n",
       "      <td>58</td>\n",
       "      <td>W</td>\n",
       "      <td>25</td>\n",
       "      <td>38</td>\n",
       "      <td>29.86</td>\n",
       "      <td>Fair / Windy</td>\n",
       "      <td>9</td>\n",
       "      <td>17</td>\n",
       "      <td>15</td>\n",
       "    </tr>\n",
       "    <tr>\n",
       "      <th>2</th>\n",
       "      <td>11</td>\n",
       "      <td>1</td>\n",
       "      <td>5</td>\n",
       "      <td>B6</td>\n",
       "      <td>N959JB</td>\n",
       "      <td>FLL</td>\n",
       "      <td>40</td>\n",
       "      <td>181</td>\n",
       "      <td>1069</td>\n",
       "      <td>301</td>\n",
       "      <td>...</td>\n",
       "      <td>34</td>\n",
       "      <td>58</td>\n",
       "      <td>W</td>\n",
       "      <td>25</td>\n",
       "      <td>38</td>\n",
       "      <td>29.86</td>\n",
       "      <td>Fair / Windy</td>\n",
       "      <td>9</td>\n",
       "      <td>17</td>\n",
       "      <td>22</td>\n",
       "    </tr>\n",
       "    <tr>\n",
       "      <th>3</th>\n",
       "      <td>11</td>\n",
       "      <td>1</td>\n",
       "      <td>5</td>\n",
       "      <td>B6</td>\n",
       "      <td>N999JQ</td>\n",
       "      <td>MCO</td>\n",
       "      <td>-2</td>\n",
       "      <td>168</td>\n",
       "      <td>944</td>\n",
       "      <td>345</td>\n",
       "      <td>...</td>\n",
       "      <td>34</td>\n",
       "      <td>58</td>\n",
       "      <td>W</td>\n",
       "      <td>25</td>\n",
       "      <td>38</td>\n",
       "      <td>29.86</td>\n",
       "      <td>Fair / Windy</td>\n",
       "      <td>9</td>\n",
       "      <td>17</td>\n",
       "      <td>12</td>\n",
       "    </tr>\n",
       "    <tr>\n",
       "      <th>4</th>\n",
       "      <td>11</td>\n",
       "      <td>1</td>\n",
       "      <td>5</td>\n",
       "      <td>DL</td>\n",
       "      <td>N880DN</td>\n",
       "      <td>ATL</td>\n",
       "      <td>-4</td>\n",
       "      <td>139</td>\n",
       "      <td>760</td>\n",
       "      <td>360</td>\n",
       "      <td>...</td>\n",
       "      <td>32</td>\n",
       "      <td>58</td>\n",
       "      <td>W</td>\n",
       "      <td>24</td>\n",
       "      <td>35</td>\n",
       "      <td>29.91</td>\n",
       "      <td>Fair / Windy</td>\n",
       "      <td>9</td>\n",
       "      <td>17</td>\n",
       "      <td>13</td>\n",
       "    </tr>\n",
       "  </tbody>\n",
       "</table>\n",
       "<p>5 rows × 23 columns</p>\n",
       "</div>"
      ],
      "text/plain": [
       "   MONTH  DAY_OF_MONTH  DAY_OF_WEEK OP_UNIQUE_CARRIER TAIL_NUM DEST  \\\n",
       "0     11             1            5                B6   N828JB  CHS   \n",
       "1     11             1            5                B6   N992JB  LAX   \n",
       "2     11             1            5                B6   N959JB  FLL   \n",
       "3     11             1            5                B6   N999JQ  MCO   \n",
       "4     11             1            5                DL   N880DN  ATL   \n",
       "\n",
       "   DEP_DELAY  CRS_ELAPSED_TIME  DISTANCE  CRS_DEP_M  ...  Dew Point  Humidity  \\\n",
       "0         -1               124       636        324  ...         34        58   \n",
       "1         -7               371      2475        340  ...         34        58   \n",
       "2         40               181      1069        301  ...         34        58   \n",
       "3         -2               168       944        345  ...         34        58   \n",
       "4         -4               139       760        360  ...         32        58   \n",
       "\n",
       "   Wind Wind Speed  Wind Gust Pressure     Condition  sch_dep  sch_arr  \\\n",
       "0     W         25         38    29.86  Fair / Windy        9       17   \n",
       "1     W         25         38    29.86  Fair / Windy        9       17   \n",
       "2     W         25         38    29.86  Fair / Windy        9       17   \n",
       "3     W         25         38    29.86  Fair / Windy        9       17   \n",
       "4     W         24         35    29.91  Fair / Windy        9       17   \n",
       "\n",
       "  TAXI_OUT  \n",
       "0       14  \n",
       "1       15  \n",
       "2       22  \n",
       "3       12  \n",
       "4       13  \n",
       "\n",
       "[5 rows x 23 columns]"
      ]
     },
     "execution_count": 2,
     "metadata": {},
     "output_type": "execute_result"
    }
   ],
   "source": [
    "df = pd.read_csv(\"M1_final.csv\")\n",
    "df.head()"
   ]
  },
  {
   "cell_type": "markdown",
   "id": "511f5f53",
   "metadata": {},
   "source": [
    "### Missing Data"
   ]
  },
  {
   "cell_type": "code",
   "execution_count": 3,
   "id": "5d15d1d3",
   "metadata": {},
   "outputs": [
    {
     "data": {
      "text/plain": [
       "<AxesSubplot:>"
      ]
     },
     "execution_count": 3,
     "metadata": {},
     "output_type": "execute_result"
    },
    {
     "data": {
      "image/png": "[encoded data removed]",
      "text/plain": [
       "<Figure size 432x288 with 1 Axes>"
      ]
     },
     "metadata": {
      "needs_background": "light"
     },
     "output_type": "display_data"
    }
   ],
   "source": [
    "sns.heatmap(df.isnull(),yticklabels=False,cbar=False,cmap='viridis')"
   ]
  },
  {
   "cell_type": "markdown",
   "id": "a84682c8",
   "metadata": {},
   "source": [
    "Didn't get any clue of how much data is missing . Maybe, reason is data set is large but missing data is negligible."
   ]
  },
  {
   "cell_type": "code",
   "execution_count": 4,
   "id": "960489d7",
   "metadata": {},
   "outputs": [
    {
     "data": {
      "text/plain": [
       "MONTH                0\n",
       "DAY_OF_MONTH         0\n",
       "DAY_OF_WEEK          0\n",
       "OP_UNIQUE_CARRIER    0\n",
       "TAIL_NUM             0\n",
       "DEST                 0\n",
       "DEP_DELAY            0\n",
       "CRS_ELAPSED_TIME     0\n",
       "DISTANCE             0\n",
       "CRS_DEP_M            0\n",
       "DEP_TIME_M           0\n",
       "CRS_ARR_M            0\n",
       "Temperature          0\n",
       "Dew Point            0\n",
       "Humidity             0\n",
       "Wind                 2\n",
       "Wind Speed           0\n",
       "Wind Gust            0\n",
       "Pressure             0\n",
       "Condition            0\n",
       "sch_dep              0\n",
       "sch_arr              0\n",
       "TAXI_OUT             0\n",
       "dtype: int64"
      ]
     },
     "execution_count": 4,
     "metadata": {},
     "output_type": "execute_result"
    }
   ],
   "source": [
    "df.isnull().sum()"
   ]
  },
  {
   "cell_type": "code",
   "execution_count": 5,
   "id": "7286c7ed",
   "metadata": {},
   "outputs": [
    {
     "name": "stdout",
     "output_type": "stream",
     "text": [
      "Dataframe dimensions: (28818, 23)\n"
     ]
    },
    {
     "data": {
      "text/html": [
       "<div>\n",
       "<style scoped>\n",
       "    .dataframe tbody tr th:only-of-type {\n",
       "        vertical-align: middle;\n",
       "    }\n",
       "\n",
       "    .dataframe tbody tr th {\n",
       "        vertical-align: top;\n",
       "    }\n",
       "\n",
       "    .dataframe thead th {\n",
       "        text-align: right;\n",
       "    }\n",
       "</style>\n",
       "<table border=\"1\" class=\"dataframe\">\n",
       "  <thead>\n",
       "    <tr style=\"text-align: right;\">\n",
       "      <th></th>\n",
       "      <th>MONTH</th>\n",
       "      <th>DAY_OF_MONTH</th>\n",
       "      <th>DAY_OF_WEEK</th>\n",
       "      <th>OP_UNIQUE_CARRIER</th>\n",
       "      <th>TAIL_NUM</th>\n",
       "      <th>DEST</th>\n",
       "      <th>DEP_DELAY</th>\n",
       "      <th>CRS_ELAPSED_TIME</th>\n",
       "      <th>DISTANCE</th>\n",
       "      <th>CRS_DEP_M</th>\n",
       "      <th>...</th>\n",
       "      <th>Dew Point</th>\n",
       "      <th>Humidity</th>\n",
       "      <th>Wind</th>\n",
       "      <th>Wind Speed</th>\n",
       "      <th>Wind Gust</th>\n",
       "      <th>Pressure</th>\n",
       "      <th>Condition</th>\n",
       "      <th>sch_dep</th>\n",
       "      <th>sch_arr</th>\n",
       "      <th>TAXI_OUT</th>\n",
       "    </tr>\n",
       "  </thead>\n",
       "  <tbody>\n",
       "    <tr>\n",
       "      <th>0</th>\n",
       "      <td>11</td>\n",
       "      <td>1</td>\n",
       "      <td>5</td>\n",
       "      <td>B6</td>\n",
       "      <td>N828JB</td>\n",
       "      <td>CHS</td>\n",
       "      <td>-1</td>\n",
       "      <td>124</td>\n",
       "      <td>636</td>\n",
       "      <td>324</td>\n",
       "      <td>...</td>\n",
       "      <td>34</td>\n",
       "      <td>58</td>\n",
       "      <td>W</td>\n",
       "      <td>25</td>\n",
       "      <td>38</td>\n",
       "      <td>29.86</td>\n",
       "      <td>Fair / Windy</td>\n",
       "      <td>9</td>\n",
       "      <td>17</td>\n",
       "      <td>14</td>\n",
       "    </tr>\n",
       "    <tr>\n",
       "      <th>1</th>\n",
       "      <td>11</td>\n",
       "      <td>1</td>\n",
       "      <td>5</td>\n",
       "      <td>B6</td>\n",
       "      <td>N992JB</td>\n",
       "      <td>LAX</td>\n",
       "      <td>-7</td>\n",
       "      <td>371</td>\n",
       "      <td>2475</td>\n",
       "      <td>340</td>\n",
       "      <td>...</td>\n",
       "      <td>34</td>\n",
       "      <td>58</td>\n",
       "      <td>W</td>\n",
       "      <td>25</td>\n",
       "      <td>38</td>\n",
       "      <td>29.86</td>\n",
       "      <td>Fair / Windy</td>\n",
       "      <td>9</td>\n",
       "      <td>17</td>\n",
       "      <td>15</td>\n",
       "    </tr>\n",
       "    <tr>\n",
       "      <th>2</th>\n",
       "      <td>11</td>\n",
       "      <td>1</td>\n",
       "      <td>5</td>\n",
       "      <td>B6</td>\n",
       "      <td>N959JB</td>\n",
       "      <td>FLL</td>\n",
       "      <td>40</td>\n",
       "      <td>181</td>\n",
       "      <td>1069</td>\n",
       "      <td>301</td>\n",
       "      <td>...</td>\n",
       "      <td>34</td>\n",
       "      <td>58</td>\n",
       "      <td>W</td>\n",
       "      <td>25</td>\n",
       "      <td>38</td>\n",
       "      <td>29.86</td>\n",
       "      <td>Fair / Windy</td>\n",
       "      <td>9</td>\n",
       "      <td>17</td>\n",
       "      <td>22</td>\n",
       "    </tr>\n",
       "    <tr>\n",
       "      <th>3</th>\n",
       "      <td>11</td>\n",
       "      <td>1</td>\n",
       "      <td>5</td>\n",
       "      <td>B6</td>\n",
       "      <td>N999JQ</td>\n",
       "      <td>MCO</td>\n",
       "      <td>-2</td>\n",
       "      <td>168</td>\n",
       "      <td>944</td>\n",
       "      <td>345</td>\n",
       "      <td>...</td>\n",
       "      <td>34</td>\n",
       "      <td>58</td>\n",
       "      <td>W</td>\n",
       "      <td>25</td>\n",
       "      <td>38</td>\n",
       "      <td>29.86</td>\n",
       "      <td>Fair / Windy</td>\n",
       "      <td>9</td>\n",
       "      <td>17</td>\n",
       "      <td>12</td>\n",
       "    </tr>\n",
       "    <tr>\n",
       "      <th>4</th>\n",
       "      <td>11</td>\n",
       "      <td>1</td>\n",
       "      <td>5</td>\n",
       "      <td>DL</td>\n",
       "      <td>N880DN</td>\n",
       "      <td>ATL</td>\n",
       "      <td>-4</td>\n",
       "      <td>139</td>\n",
       "      <td>760</td>\n",
       "      <td>360</td>\n",
       "      <td>...</td>\n",
       "      <td>32</td>\n",
       "      <td>58</td>\n",
       "      <td>W</td>\n",
       "      <td>24</td>\n",
       "      <td>35</td>\n",
       "      <td>29.91</td>\n",
       "      <td>Fair / Windy</td>\n",
       "      <td>9</td>\n",
       "      <td>17</td>\n",
       "      <td>13</td>\n",
       "    </tr>\n",
       "  </tbody>\n",
       "</table>\n",
       "<p>5 rows × 23 columns</p>\n",
       "</div>"
      ],
      "text/plain": [
       "   MONTH  DAY_OF_MONTH  DAY_OF_WEEK OP_UNIQUE_CARRIER TAIL_NUM DEST  \\\n",
       "0     11             1            5                B6   N828JB  CHS   \n",
       "1     11             1            5                B6   N992JB  LAX   \n",
       "2     11             1            5                B6   N959JB  FLL   \n",
       "3     11             1            5                B6   N999JQ  MCO   \n",
       "4     11             1            5                DL   N880DN  ATL   \n",
       "\n",
       "   DEP_DELAY  CRS_ELAPSED_TIME  DISTANCE  CRS_DEP_M  ...  Dew Point  Humidity  \\\n",
       "0         -1               124       636        324  ...         34        58   \n",
       "1         -7               371      2475        340  ...         34        58   \n",
       "2         40               181      1069        301  ...         34        58   \n",
       "3         -2               168       944        345  ...         34        58   \n",
       "4         -4               139       760        360  ...         32        58   \n",
       "\n",
       "   Wind Wind Speed  Wind Gust Pressure     Condition  sch_dep  sch_arr  \\\n",
       "0     W         25         38    29.86  Fair / Windy        9       17   \n",
       "1     W         25         38    29.86  Fair / Windy        9       17   \n",
       "2     W         25         38    29.86  Fair / Windy        9       17   \n",
       "3     W         25         38    29.86  Fair / Windy        9       17   \n",
       "4     W         24         35    29.91  Fair / Windy        9       17   \n",
       "\n",
       "  TAXI_OUT  \n",
       "0       14  \n",
       "1       15  \n",
       "2       22  \n",
       "3       12  \n",
       "4       13  \n",
       "\n",
       "[5 rows x 23 columns]"
      ]
     },
     "execution_count": 5,
     "metadata": {},
     "output_type": "execute_result"
    }
   ],
   "source": [
    "#since we have very larger dataset so we can drop 2 rows easily \n",
    "df = df.dropna()\n",
    "df.isnull().sum()\n",
    "print('Dataframe dimensions:', df.shape)\n",
    "df.head()"
   ]
  },
  {
   "cell_type": "code",
   "execution_count": 6,
   "id": "8daf1b88",
   "metadata": {},
   "outputs": [
    {
     "data": {
      "text/html": [
       "<div>\n",
       "<style scoped>\n",
       "    .dataframe tbody tr th:only-of-type {\n",
       "        vertical-align: middle;\n",
       "    }\n",
       "\n",
       "    .dataframe tbody tr th {\n",
       "        vertical-align: top;\n",
       "    }\n",
       "\n",
       "    .dataframe thead th {\n",
       "        text-align: right;\n",
       "    }\n",
       "</style>\n",
       "<table border=\"1\" class=\"dataframe\">\n",
       "  <thead>\n",
       "    <tr style=\"text-align: right;\">\n",
       "      <th></th>\n",
       "      <th>MONTH</th>\n",
       "      <th>DAY_OF_MONTH</th>\n",
       "      <th>DAY_OF_WEEK</th>\n",
       "      <th>OP_UNIQUE_CARRIER</th>\n",
       "      <th>DEST</th>\n",
       "      <th>DEP_DELAY</th>\n",
       "      <th>CRS_ELAPSED_TIME</th>\n",
       "      <th>DISTANCE</th>\n",
       "      <th>CRS_DEP_M</th>\n",
       "      <th>DEP_TIME_M</th>\n",
       "      <th>...</th>\n",
       "      <th>Dew Point</th>\n",
       "      <th>Humidity</th>\n",
       "      <th>Wind</th>\n",
       "      <th>Wind Speed</th>\n",
       "      <th>Wind Gust</th>\n",
       "      <th>Pressure</th>\n",
       "      <th>Condition</th>\n",
       "      <th>sch_dep</th>\n",
       "      <th>sch_arr</th>\n",
       "      <th>TAXI_OUT</th>\n",
       "    </tr>\n",
       "  </thead>\n",
       "  <tbody>\n",
       "    <tr>\n",
       "      <th>0</th>\n",
       "      <td>11</td>\n",
       "      <td>1</td>\n",
       "      <td>5</td>\n",
       "      <td>B6</td>\n",
       "      <td>CHS</td>\n",
       "      <td>-1</td>\n",
       "      <td>124</td>\n",
       "      <td>636</td>\n",
       "      <td>324</td>\n",
       "      <td>323</td>\n",
       "      <td>...</td>\n",
       "      <td>34</td>\n",
       "      <td>58</td>\n",
       "      <td>W</td>\n",
       "      <td>25</td>\n",
       "      <td>38</td>\n",
       "      <td>29.86</td>\n",
       "      <td>Fair / Windy</td>\n",
       "      <td>9</td>\n",
       "      <td>17</td>\n",
       "      <td>14</td>\n",
       "    </tr>\n",
       "    <tr>\n",
       "      <th>1</th>\n",
       "      <td>11</td>\n",
       "      <td>1</td>\n",
       "      <td>5</td>\n",
       "      <td>B6</td>\n",
       "      <td>LAX</td>\n",
       "      <td>-7</td>\n",
       "      <td>371</td>\n",
       "      <td>2475</td>\n",
       "      <td>340</td>\n",
       "      <td>333</td>\n",
       "      <td>...</td>\n",
       "      <td>34</td>\n",
       "      <td>58</td>\n",
       "      <td>W</td>\n",
       "      <td>25</td>\n",
       "      <td>38</td>\n",
       "      <td>29.86</td>\n",
       "      <td>Fair / Windy</td>\n",
       "      <td>9</td>\n",
       "      <td>17</td>\n",
       "      <td>15</td>\n",
       "    </tr>\n",
       "    <tr>\n",
       "      <th>2</th>\n",
       "      <td>11</td>\n",
       "      <td>1</td>\n",
       "      <td>5</td>\n",
       "      <td>B6</td>\n",
       "      <td>FLL</td>\n",
       "      <td>40</td>\n",
       "      <td>181</td>\n",
       "      <td>1069</td>\n",
       "      <td>301</td>\n",
       "      <td>341</td>\n",
       "      <td>...</td>\n",
       "      <td>34</td>\n",
       "      <td>58</td>\n",
       "      <td>W</td>\n",
       "      <td>25</td>\n",
       "      <td>38</td>\n",
       "      <td>29.86</td>\n",
       "      <td>Fair / Windy</td>\n",
       "      <td>9</td>\n",
       "      <td>17</td>\n",
       "      <td>22</td>\n",
       "    </tr>\n",
       "    <tr>\n",
       "      <th>3</th>\n",
       "      <td>11</td>\n",
       "      <td>1</td>\n",
       "      <td>5</td>\n",
       "      <td>B6</td>\n",
       "      <td>MCO</td>\n",
       "      <td>-2</td>\n",
       "      <td>168</td>\n",
       "      <td>944</td>\n",
       "      <td>345</td>\n",
       "      <td>343</td>\n",
       "      <td>...</td>\n",
       "      <td>34</td>\n",
       "      <td>58</td>\n",
       "      <td>W</td>\n",
       "      <td>25</td>\n",
       "      <td>38</td>\n",
       "      <td>29.86</td>\n",
       "      <td>Fair / Windy</td>\n",
       "      <td>9</td>\n",
       "      <td>17</td>\n",
       "      <td>12</td>\n",
       "    </tr>\n",
       "    <tr>\n",
       "      <th>4</th>\n",
       "      <td>11</td>\n",
       "      <td>1</td>\n",
       "      <td>5</td>\n",
       "      <td>DL</td>\n",
       "      <td>ATL</td>\n",
       "      <td>-4</td>\n",
       "      <td>139</td>\n",
       "      <td>760</td>\n",
       "      <td>360</td>\n",
       "      <td>356</td>\n",
       "      <td>...</td>\n",
       "      <td>32</td>\n",
       "      <td>58</td>\n",
       "      <td>W</td>\n",
       "      <td>24</td>\n",
       "      <td>35</td>\n",
       "      <td>29.91</td>\n",
       "      <td>Fair / Windy</td>\n",
       "      <td>9</td>\n",
       "      <td>17</td>\n",
       "      <td>13</td>\n",
       "    </tr>\n",
       "  </tbody>\n",
       "</table>\n",
       "<p>5 rows × 22 columns</p>\n",
       "</div>"
      ],
      "text/plain": [
       "   MONTH  DAY_OF_MONTH  DAY_OF_WEEK OP_UNIQUE_CARRIER DEST  DEP_DELAY  \\\n",
       "0     11             1            5                B6  CHS         -1   \n",
       "1     11             1            5                B6  LAX         -7   \n",
       "2     11             1            5                B6  FLL         40   \n",
       "3     11             1            5                B6  MCO         -2   \n",
       "4     11             1            5                DL  ATL         -4   \n",
       "\n",
       "   CRS_ELAPSED_TIME  DISTANCE  CRS_DEP_M  DEP_TIME_M  ...  Dew Point  \\\n",
       "0               124       636        324         323  ...         34   \n",
       "1               371      2475        340         333  ...         34   \n",
       "2               181      1069        301         341  ...         34   \n",
       "3               168       944        345         343  ...         34   \n",
       "4               139       760        360         356  ...         32   \n",
       "\n",
       "   Humidity Wind  Wind Speed Wind Gust  Pressure     Condition  sch_dep  \\\n",
       "0        58    W          25        38     29.86  Fair / Windy        9   \n",
       "1        58    W          25        38     29.86  Fair / Windy        9   \n",
       "2        58    W          25        38     29.86  Fair / Windy        9   \n",
       "3        58    W          25        38     29.86  Fair / Windy        9   \n",
       "4        58    W          24        35     29.91  Fair / Windy        9   \n",
       "\n",
       "  sch_arr  TAXI_OUT  \n",
       "0      17        14  \n",
       "1      17        15  \n",
       "2      17        22  \n",
       "3      17        12  \n",
       "4      17        13  \n",
       "\n",
       "[5 rows x 22 columns]"
      ]
     },
     "execution_count": 6,
     "metadata": {},
     "output_type": "execute_result"
    }
   ],
   "source": [
    "df.drop('TAIL_NUM',axis=1,inplace=True)\n",
    "df.head()"
   ]
  },
  {
   "cell_type": "markdown",
   "id": "118702c1",
   "metadata": {},
   "source": [
    "### Histogram Plots"
   ]
  },
  {
   "cell_type": "code",
   "execution_count": 7,
   "id": "69d5551d",
   "metadata": {
    "scrolled": true
   },
   "outputs": [
    {
     "data": {
      "image/png": "[encoded data removed]",
      "text/plain": [
       "<Figure size 2880x2160 with 20 Axes>"
      ]
     },
     "metadata": {
      "needs_background": "light"
     },
     "output_type": "display_data"
    }
   ],
   "source": [
    "df.hist(bins = 50, figsize = (40, 30))\n",
    "plt.show()"
   ]
  },
  {
   "cell_type": "markdown",
   "id": "ab89db4a",
   "metadata": {},
   "source": [
    "Histogram plots provides some idea of the distribution of independent variables (numerical and dates).\n",
    "(1). Most of the 'Wind Gust' values are near 0.\n",
    "(2). Not all the values of the column 'Dew Point' is Numerical. some of them are in string format. This is why its histogram is not shown.\n",
    "(3). Cetegorical variables are - \n",
    "      'OP_UNIQUE_CARRIER', 'DEST', 'Dew Point', 'Wind', 'Condition' (We have to apply Label and one hot encoding both on these variables)"
   ]
  },
  {
   "cell_type": "markdown",
   "id": "c90f875b",
   "metadata": {},
   "source": [
    "#### Before going to ML models we have to handle 'Dew Point' column."
   ]
  },
  {
   "cell_type": "code",
   "execution_count": 8,
   "id": "e3420904",
   "metadata": {},
   "outputs": [
    {
     "name": "stdout",
     "output_type": "stream",
     "text": [
      "Dataframe dimensions: (27093, 22)\n"
     ]
    }
   ],
   "source": [
    "df = df[df['Dew Point'].map(lambda x: x.isascii())]\n",
    "print('Dataframe dimensions:', df.shape)"
   ]
  },
  {
   "cell_type": "markdown",
   "id": "50f6e4c8",
   "metadata": {},
   "source": [
    "### Input and Output variables in Dataframe"
   ]
  },
  {
   "cell_type": "code",
   "execution_count": 9,
   "id": "65a54f62",
   "metadata": {},
   "outputs": [
    {
     "name": "stdout",
     "output_type": "stream",
     "text": [
      "Input dimensions: (27093, 21)\n",
      "Output dimensions: (27093,)\n"
     ]
    },
    {
     "data": {
      "text/html": [
       "<div>\n",
       "<style scoped>\n",
       "    .dataframe tbody tr th:only-of-type {\n",
       "        vertical-align: middle;\n",
       "    }\n",
       "\n",
       "    .dataframe tbody tr th {\n",
       "        vertical-align: top;\n",
       "    }\n",
       "\n",
       "    .dataframe thead th {\n",
       "        text-align: right;\n",
       "    }\n",
       "</style>\n",
       "<table border=\"1\" class=\"dataframe\">\n",
       "  <thead>\n",
       "    <tr style=\"text-align: right;\">\n",
       "      <th></th>\n",
       "      <th>MONTH</th>\n",
       "      <th>DAY_OF_MONTH</th>\n",
       "      <th>DAY_OF_WEEK</th>\n",
       "      <th>OP_UNIQUE_CARRIER</th>\n",
       "      <th>DEST</th>\n",
       "      <th>DEP_DELAY</th>\n",
       "      <th>CRS_ELAPSED_TIME</th>\n",
       "      <th>DISTANCE</th>\n",
       "      <th>CRS_DEP_M</th>\n",
       "      <th>DEP_TIME_M</th>\n",
       "      <th>...</th>\n",
       "      <th>Temperature</th>\n",
       "      <th>Dew Point</th>\n",
       "      <th>Humidity</th>\n",
       "      <th>Wind</th>\n",
       "      <th>Wind Speed</th>\n",
       "      <th>Wind Gust</th>\n",
       "      <th>Pressure</th>\n",
       "      <th>Condition</th>\n",
       "      <th>sch_dep</th>\n",
       "      <th>sch_arr</th>\n",
       "    </tr>\n",
       "  </thead>\n",
       "  <tbody>\n",
       "    <tr>\n",
       "      <th>0</th>\n",
       "      <td>11</td>\n",
       "      <td>1</td>\n",
       "      <td>5</td>\n",
       "      <td>B6</td>\n",
       "      <td>CHS</td>\n",
       "      <td>-1</td>\n",
       "      <td>124</td>\n",
       "      <td>636</td>\n",
       "      <td>324</td>\n",
       "      <td>323</td>\n",
       "      <td>...</td>\n",
       "      <td>48</td>\n",
       "      <td>34</td>\n",
       "      <td>58</td>\n",
       "      <td>W</td>\n",
       "      <td>25</td>\n",
       "      <td>38</td>\n",
       "      <td>29.86</td>\n",
       "      <td>Fair / Windy</td>\n",
       "      <td>9</td>\n",
       "      <td>17</td>\n",
       "    </tr>\n",
       "    <tr>\n",
       "      <th>1</th>\n",
       "      <td>11</td>\n",
       "      <td>1</td>\n",
       "      <td>5</td>\n",
       "      <td>B6</td>\n",
       "      <td>LAX</td>\n",
       "      <td>-7</td>\n",
       "      <td>371</td>\n",
       "      <td>2475</td>\n",
       "      <td>340</td>\n",
       "      <td>333</td>\n",
       "      <td>...</td>\n",
       "      <td>48</td>\n",
       "      <td>34</td>\n",
       "      <td>58</td>\n",
       "      <td>W</td>\n",
       "      <td>25</td>\n",
       "      <td>38</td>\n",
       "      <td>29.86</td>\n",
       "      <td>Fair / Windy</td>\n",
       "      <td>9</td>\n",
       "      <td>17</td>\n",
       "    </tr>\n",
       "    <tr>\n",
       "      <th>2</th>\n",
       "      <td>11</td>\n",
       "      <td>1</td>\n",
       "      <td>5</td>\n",
       "      <td>B6</td>\n",
       "      <td>FLL</td>\n",
       "      <td>40</td>\n",
       "      <td>181</td>\n",
       "      <td>1069</td>\n",
       "      <td>301</td>\n",
       "      <td>341</td>\n",
       "      <td>...</td>\n",
       "      <td>48</td>\n",
       "      <td>34</td>\n",
       "      <td>58</td>\n",
       "      <td>W</td>\n",
       "      <td>25</td>\n",
       "      <td>38</td>\n",
       "      <td>29.86</td>\n",
       "      <td>Fair / Windy</td>\n",
       "      <td>9</td>\n",
       "      <td>17</td>\n",
       "    </tr>\n",
       "    <tr>\n",
       "      <th>3</th>\n",
       "      <td>11</td>\n",
       "      <td>1</td>\n",
       "      <td>5</td>\n",
       "      <td>B6</td>\n",
       "      <td>MCO</td>\n",
       "      <td>-2</td>\n",
       "      <td>168</td>\n",
       "      <td>944</td>\n",
       "      <td>345</td>\n",
       "      <td>343</td>\n",
       "      <td>...</td>\n",
       "      <td>48</td>\n",
       "      <td>34</td>\n",
       "      <td>58</td>\n",
       "      <td>W</td>\n",
       "      <td>25</td>\n",
       "      <td>38</td>\n",
       "      <td>29.86</td>\n",
       "      <td>Fair / Windy</td>\n",
       "      <td>9</td>\n",
       "      <td>17</td>\n",
       "    </tr>\n",
       "    <tr>\n",
       "      <th>4</th>\n",
       "      <td>11</td>\n",
       "      <td>1</td>\n",
       "      <td>5</td>\n",
       "      <td>DL</td>\n",
       "      <td>ATL</td>\n",
       "      <td>-4</td>\n",
       "      <td>139</td>\n",
       "      <td>760</td>\n",
       "      <td>360</td>\n",
       "      <td>356</td>\n",
       "      <td>...</td>\n",
       "      <td>46</td>\n",
       "      <td>32</td>\n",
       "      <td>58</td>\n",
       "      <td>W</td>\n",
       "      <td>24</td>\n",
       "      <td>35</td>\n",
       "      <td>29.91</td>\n",
       "      <td>Fair / Windy</td>\n",
       "      <td>9</td>\n",
       "      <td>17</td>\n",
       "    </tr>\n",
       "  </tbody>\n",
       "</table>\n",
       "<p>5 rows × 21 columns</p>\n",
       "</div>"
      ],
      "text/plain": [
       "   MONTH  DAY_OF_MONTH  DAY_OF_WEEK OP_UNIQUE_CARRIER DEST  DEP_DELAY  \\\n",
       "0     11             1            5                B6  CHS         -1   \n",
       "1     11             1            5                B6  LAX         -7   \n",
       "2     11             1            5                B6  FLL         40   \n",
       "3     11             1            5                B6  MCO         -2   \n",
       "4     11             1            5                DL  ATL         -4   \n",
       "\n",
       "   CRS_ELAPSED_TIME  DISTANCE  CRS_DEP_M  DEP_TIME_M  ...  Temperature  \\\n",
       "0               124       636        324         323  ...           48   \n",
       "1               371      2475        340         333  ...           48   \n",
       "2               181      1069        301         341  ...           48   \n",
       "3               168       944        345         343  ...           48   \n",
       "4               139       760        360         356  ...           46   \n",
       "\n",
       "   Dew Point Humidity  Wind Wind Speed  Wind Gust  Pressure     Condition  \\\n",
       "0         34       58     W         25         38     29.86  Fair / Windy   \n",
       "1         34       58     W         25         38     29.86  Fair / Windy   \n",
       "2         34       58     W         25         38     29.86  Fair / Windy   \n",
       "3         34       58     W         25         38     29.86  Fair / Windy   \n",
       "4         32       58     W         24         35     29.91  Fair / Windy   \n",
       "\n",
       "  sch_dep  sch_arr  \n",
       "0       9       17  \n",
       "1       9       17  \n",
       "2       9       17  \n",
       "3       9       17  \n",
       "4       9       17  \n",
       "\n",
       "[5 rows x 21 columns]"
      ]
     },
     "execution_count": 9,
     "metadata": {},
     "output_type": "execute_result"
    }
   ],
   "source": [
    "X = df.drop(['TAXI_OUT'],axis = 1)\n",
    "Y = df.TAXI_OUT\n",
    "print('Input dimensions:', X.shape)\n",
    "print('Output dimensions:', Y.shape)\n",
    "X.head()"
   ]
  },
  {
   "cell_type": "markdown",
   "id": "61a2a160",
   "metadata": {},
   "source": [
    "### Train-Test Splitting"
   ]
  },
  {
   "cell_type": "code",
   "execution_count": 10,
   "id": "21ea2f24",
   "metadata": {},
   "outputs": [
    {
     "name": "stdout",
     "output_type": "stream",
     "text": [
      "Input training dimensions: (24383, 21)\n",
      "Input testing dimensions: (2710, 21)\n",
      "Output training dimensions: (24383,)\n",
      "Output testing dimensions: (2710,)\n"
     ]
    }
   ],
   "source": [
    "from sklearn.model_selection import train_test_split\n",
    "X_train,X_test,Y_train,Y_test = train_test_split(X,Y,test_size = 0.1)\n",
    "print('Input training dimensions:', X_train.shape)\n",
    "print('Input testing dimensions:', X_test.shape)\n",
    "print('Output training dimensions:', Y_train.shape)\n",
    "print('Output testing dimensions:', Y_test.shape)"
   ]
  },
  {
   "cell_type": "markdown",
   "id": "53ea6e0b",
   "metadata": {},
   "source": [
    "# (A). Label Encoding"
   ]
  },
  {
   "cell_type": "code",
   "execution_count": 11,
   "id": "f612b52e",
   "metadata": {},
   "outputs": [],
   "source": [
    "from sklearn.preprocessing import LabelEncoder\n",
    "labelencoder = LabelEncoder()"
   ]
  },
  {
   "cell_type": "code",
   "execution_count": 12,
   "id": "9b5a6dfc",
   "metadata": {},
   "outputs": [],
   "source": [
    "X1_train = X_train.copy()\n",
    "X1_test = X_test.copy()"
   ]
  },
  {
   "cell_type": "code",
   "execution_count": 13,
   "id": "49106b5f",
   "metadata": {},
   "outputs": [],
   "source": [
    "X1_train['OP_UNIQUE_CARRIER'] =labelencoder.fit_transform(X1_train['OP_UNIQUE_CARRIER'].astype(str))\n",
    "X1_test['OP_UNIQUE_CARRIER'] =labelencoder.fit_transform(X1_test['OP_UNIQUE_CARRIER'].astype(str))\n",
    "X1_train['DEST'] = labelencoder.fit_transform(X1_train['DEST'].astype(str))\n",
    "X1_train['Dew Point'] = labelencoder.fit_transform(X1_train['Dew Point'].astype(str))\n",
    "X1_train['Wind'] = labelencoder.fit_transform(X1_train['Wind'].astype(str))\n",
    "X1_train['Condition'] = labelencoder.fit_transform(X1_train['Condition'].astype(str))\n",
    "X1_test['DEST'] = labelencoder.fit_transform(X1_test['DEST'].astype(str))\n",
    "X1_test['Dew Point'] = labelencoder.fit_transform(X1_test['Dew Point'].astype(str))\n",
    "X1_test['Wind'] = labelencoder.fit_transform(X1_test['Wind'].astype(str))\n",
    "X1_test['Condition'] = labelencoder.fit_transform(X1_test['Condition'].astype(str))"
   ]
  },
  {
   "cell_type": "code",
   "execution_count": 14,
   "id": "656e07db",
   "metadata": {},
   "outputs": [
    {
     "data": {
      "text/html": [
       "<div>\n",
       "<style scoped>\n",
       "    .dataframe tbody tr th:only-of-type {\n",
       "        vertical-align: middle;\n",
       "    }\n",
       "\n",
       "    .dataframe tbody tr th {\n",
       "        vertical-align: top;\n",
       "    }\n",
       "\n",
       "    .dataframe thead th {\n",
       "        text-align: right;\n",
       "    }\n",
       "</style>\n",
       "<table border=\"1\" class=\"dataframe\">\n",
       "  <thead>\n",
       "    <tr style=\"text-align: right;\">\n",
       "      <th></th>\n",
       "      <th>MONTH</th>\n",
       "      <th>DAY_OF_MONTH</th>\n",
       "      <th>DAY_OF_WEEK</th>\n",
       "      <th>OP_UNIQUE_CARRIER</th>\n",
       "      <th>DEST</th>\n",
       "      <th>DEP_DELAY</th>\n",
       "      <th>CRS_ELAPSED_TIME</th>\n",
       "      <th>DISTANCE</th>\n",
       "      <th>CRS_DEP_M</th>\n",
       "      <th>DEP_TIME_M</th>\n",
       "      <th>...</th>\n",
       "      <th>Temperature</th>\n",
       "      <th>Dew Point</th>\n",
       "      <th>Humidity</th>\n",
       "      <th>Wind</th>\n",
       "      <th>Wind Speed</th>\n",
       "      <th>Wind Gust</th>\n",
       "      <th>Pressure</th>\n",
       "      <th>Condition</th>\n",
       "      <th>sch_dep</th>\n",
       "      <th>sch_arr</th>\n",
       "    </tr>\n",
       "  </thead>\n",
       "  <tbody>\n",
       "    <tr>\n",
       "      <th>17283</th>\n",
       "      <td>12</td>\n",
       "      <td>26</td>\n",
       "      <td>4</td>\n",
       "      <td>8</td>\n",
       "      <td>63</td>\n",
       "      <td>-4</td>\n",
       "      <td>93</td>\n",
       "      <td>209</td>\n",
       "      <td>989</td>\n",
       "      <td>985</td>\n",
       "      <td>...</td>\n",
       "      <td>46</td>\n",
       "      <td>34</td>\n",
       "      <td>83</td>\n",
       "      <td>1</td>\n",
       "      <td>13</td>\n",
       "      <td>0</td>\n",
       "      <td>30.36</td>\n",
       "      <td>15</td>\n",
       "      <td>28</td>\n",
       "      <td>32</td>\n",
       "    </tr>\n",
       "    <tr>\n",
       "      <th>23686</th>\n",
       "      <td>1</td>\n",
       "      <td>15</td>\n",
       "      <td>3</td>\n",
       "      <td>4</td>\n",
       "      <td>4</td>\n",
       "      <td>-1</td>\n",
       "      <td>87</td>\n",
       "      <td>187</td>\n",
       "      <td>1165</td>\n",
       "      <td>1164</td>\n",
       "      <td>...</td>\n",
       "      <td>45</td>\n",
       "      <td>28</td>\n",
       "      <td>68</td>\n",
       "      <td>17</td>\n",
       "      <td>7</td>\n",
       "      <td>0</td>\n",
       "      <td>30.13</td>\n",
       "      <td>17</td>\n",
       "      <td>38</td>\n",
       "      <td>34</td>\n",
       "    </tr>\n",
       "    <tr>\n",
       "      <th>15716</th>\n",
       "      <td>12</td>\n",
       "      <td>21</td>\n",
       "      <td>6</td>\n",
       "      <td>6</td>\n",
       "      <td>9</td>\n",
       "      <td>-7</td>\n",
       "      <td>81</td>\n",
       "      <td>184</td>\n",
       "      <td>959</td>\n",
       "      <td>952</td>\n",
       "      <td>...</td>\n",
       "      <td>33</td>\n",
       "      <td>20</td>\n",
       "      <td>78</td>\n",
       "      <td>13</td>\n",
       "      <td>8</td>\n",
       "      <td>0</td>\n",
       "      <td>30.51</td>\n",
       "      <td>0</td>\n",
       "      <td>35</td>\n",
       "      <td>38</td>\n",
       "    </tr>\n",
       "    <tr>\n",
       "      <th>9753</th>\n",
       "      <td>11</td>\n",
       "      <td>30</td>\n",
       "      <td>6</td>\n",
       "      <td>3</td>\n",
       "      <td>30</td>\n",
       "      <td>0</td>\n",
       "      <td>168</td>\n",
       "      <td>944</td>\n",
       "      <td>1323</td>\n",
       "      <td>1323</td>\n",
       "      <td>...</td>\n",
       "      <td>34</td>\n",
       "      <td>10</td>\n",
       "      <td>50</td>\n",
       "      <td>4</td>\n",
       "      <td>7</td>\n",
       "      <td>0</td>\n",
       "      <td>30.02</td>\n",
       "      <td>15</td>\n",
       "      <td>22</td>\n",
       "      <td>31</td>\n",
       "    </tr>\n",
       "    <tr>\n",
       "      <th>28446</th>\n",
       "      <td>1</td>\n",
       "      <td>30</td>\n",
       "      <td>4</td>\n",
       "      <td>6</td>\n",
       "      <td>47</td>\n",
       "      <td>9</td>\n",
       "      <td>111</td>\n",
       "      <td>427</td>\n",
       "      <td>1260</td>\n",
       "      <td>1269</td>\n",
       "      <td>...</td>\n",
       "      <td>31</td>\n",
       "      <td>15</td>\n",
       "      <td>69</td>\n",
       "      <td>5</td>\n",
       "      <td>5</td>\n",
       "      <td>0</td>\n",
       "      <td>30.35</td>\n",
       "      <td>15</td>\n",
       "      <td>32</td>\n",
       "      <td>30</td>\n",
       "    </tr>\n",
       "  </tbody>\n",
       "</table>\n",
       "<p>5 rows × 21 columns</p>\n",
       "</div>"
      ],
      "text/plain": [
       "       MONTH  DAY_OF_MONTH  DAY_OF_WEEK  OP_UNIQUE_CARRIER  DEST  DEP_DELAY  \\\n",
       "17283     12            26            4                  8    63         -4   \n",
       "23686      1            15            3                  4     4         -1   \n",
       "15716     12            21            6                  6     9         -7   \n",
       "9753      11            30            6                  3    30          0   \n",
       "28446      1            30            4                  6    47          9   \n",
       "\n",
       "       CRS_ELAPSED_TIME  DISTANCE  CRS_DEP_M  DEP_TIME_M  ...  Temperature  \\\n",
       "17283                93       209        989         985  ...           46   \n",
       "23686                87       187       1165        1164  ...           45   \n",
       "15716                81       184        959         952  ...           33   \n",
       "9753                168       944       1323        1323  ...           34   \n",
       "28446               111       427       1260        1269  ...           31   \n",
       "\n",
       "       Dew Point  Humidity  Wind  Wind Speed  Wind Gust  Pressure  Condition  \\\n",
       "17283         34        83     1          13          0     30.36         15   \n",
       "23686         28        68    17           7          0     30.13         17   \n",
       "15716         20        78    13           8          0     30.51          0   \n",
       "9753          10        50     4           7          0     30.02         15   \n",
       "28446         15        69     5           5          0     30.35         15   \n",
       "\n",
       "       sch_dep  sch_arr  \n",
       "17283       28       32  \n",
       "23686       38       34  \n",
       "15716       35       38  \n",
       "9753        22       31  \n",
       "28446       32       30  \n",
       "\n",
       "[5 rows x 21 columns]"
      ]
     },
     "execution_count": 14,
     "metadata": {},
     "output_type": "execute_result"
    }
   ],
   "source": [
    "X1_train.head()"
   ]
  },
  {
   "cell_type": "markdown",
   "id": "39bab855",
   "metadata": {},
   "source": [
    "## Training and Predicting"
   ]
  },
  {
   "cell_type": "code",
   "execution_count": 15,
   "id": "4573ba0d",
   "metadata": {},
   "outputs": [],
   "source": [
    "from sklearn.metrics import mean_squared_error"
   ]
  },
  {
   "cell_type": "markdown",
   "id": "91abcce0",
   "metadata": {},
   "source": [
    "#### 1. Linear Regression"
   ]
  },
  {
   "cell_type": "code",
   "execution_count": 16,
   "id": "8c515a08",
   "metadata": {},
   "outputs": [],
   "source": [
    "from sklearn.linear_model import LinearRegression"
   ]
  },
  {
   "cell_type": "code",
   "execution_count": 17,
   "id": "415fac83",
   "metadata": {},
   "outputs": [
    {
     "name": "stdout",
     "output_type": "stream",
     "text": [
      "Linear Regression Error:  6.540952645743153\n"
     ]
    }
   ],
   "source": [
    "linear_reg = LinearRegression()\n",
    "linear_reg.fit(X1_train,Y_train)\n",
    "Y_predicted1 = linear_reg.predict(X1_test)\n",
    "l1 = mean_squared_error(Y_predicted1,Y_test,squared = False)\n",
    "print('Linear Regression Error: ', l1)"
   ]
  },
  {
   "cell_type": "markdown",
   "id": "5d8d89aa",
   "metadata": {},
   "source": [
    "#### 2. Ridge Regression"
   ]
  },
  {
   "cell_type": "code",
   "execution_count": 18,
   "id": "5286887a",
   "metadata": {},
   "outputs": [
    {
     "name": "stdout",
     "output_type": "stream",
     "text": [
      "Ridge Regression Error:  6.540953600544131\n"
     ]
    }
   ],
   "source": [
    "from sklearn.linear_model import Ridge\n",
    "ridge_reg = Ridge()\n",
    "ridge_reg.fit(X1_train,Y_train)\n",
    "Y_predicted2 = ridge_reg.predict(X1_test)\n",
    "l2 = mean_squared_error(Y_predicted2, Y_test, squared = False)\n",
    "print('Ridge Regression Error: ', l2)"
   ]
  },
  {
   "cell_type": "markdown",
   "id": "87e15f51",
   "metadata": {},
   "source": [
    "#### 3. Lasso Regression"
   ]
  },
  {
   "cell_type": "code",
   "execution_count": 19,
   "id": "1c816c75",
   "metadata": {},
   "outputs": [
    {
     "name": "stdout",
     "output_type": "stream",
     "text": [
      "Lasso Regression Error:  6.564036154781706\n"
     ]
    }
   ],
   "source": [
    "from sklearn.linear_model import Lasso\n",
    "lasso_reg = Lasso()\n",
    "lasso_reg.fit(X1_train,Y_train)\n",
    "Y_predicted3 = lasso_reg.predict(X1_test)\n",
    "l3 = mean_squared_error(Y_predicted3, Y_test, squared = False)\n",
    "print('Lasso Regression Error: ', l3)"
   ]
  },
  {
   "cell_type": "markdown",
   "id": "702ab387",
   "metadata": {},
   "source": [
    "#### 4. KNN Model"
   ]
  },
  {
   "cell_type": "code",
   "execution_count": 20,
   "id": "16088633",
   "metadata": {},
   "outputs": [
    {
     "name": "stdout",
     "output_type": "stream",
     "text": [
      "KNN Model Error:  6.665225836536187\n"
     ]
    }
   ],
   "source": [
    "from sklearn.neighbors import KNeighborsRegressor\n",
    "knn_reg = KNeighborsRegressor(n_neighbors = 200)\n",
    "knn_reg.fit(X1_train,Y_train)\n",
    "Y_predicted4=knn_reg.predict(X1_test)\n",
    "l4 = mean_squared_error(Y_predicted4,Y_test, squared =False)\n",
    "print('KNN Model Error: ', l4)"
   ]
  },
  {
   "cell_type": "markdown",
   "id": "d6b851fb",
   "metadata": {},
   "source": [
    "#### 5. SVR"
   ]
  },
  {
   "cell_type": "code",
   "execution_count": 21,
   "id": "0c5358e8",
   "metadata": {},
   "outputs": [
    {
     "name": "stdout",
     "output_type": "stream",
     "text": [
      "SVR Error:  6.324687473232338\n"
     ]
    }
   ],
   "source": [
    "from sklearn.svm import SVR\n",
    "from sklearn.preprocessing import StandardScaler\n",
    "x1_train = X1_train.copy()\n",
    "x1_test = X1_test.copy()\n",
    "s1 = StandardScaler()\n",
    "s2 = StandardScaler()\n",
    "x1_train = s1.fit_transform(x1_train)\n",
    "x1_test = s2.fit_transform(x1_test)\n",
    "sv_reg  = SVR()\n",
    "sv_reg.fit(x1_train,Y_train)\n",
    "Y_predicted5 = sv_reg.predict(x1_test)\n",
    "l5 = mean_squared_error(Y_predicted5, Y_test, squared= False)\n",
    "print('SVR Error: ', l5)"
   ]
  },
  {
   "cell_type": "markdown",
   "id": "1cb966ed",
   "metadata": {},
   "source": [
    "#### 6. Naive Bayes"
   ]
  },
  {
   "cell_type": "code",
   "execution_count": 22,
   "id": "bc2e44d0",
   "metadata": {},
   "outputs": [
    {
     "name": "stdout",
     "output_type": "stream",
     "text": [
      "Naive Bayes Error: 6.544852510269603\n"
     ]
    }
   ],
   "source": [
    "from sklearn.linear_model import BayesianRidge\n",
    "bayes_reg = BayesianRidge()\n",
    "bayes_reg.fit(X1_train, Y_train)\n",
    "Y_predicted6 = bayes_reg.predict(X1_test)\n",
    "l6 = mean_squared_error(Y_predicted6, Y_test,squared=False)\n",
    "print('Naive Bayes Error:', l6)"
   ]
  },
  {
   "cell_type": "markdown",
   "id": "a9dbc29e",
   "metadata": {},
   "source": [
    "#### 7. Random Forest"
   ]
  },
  {
   "cell_type": "code",
   "execution_count": 23,
   "id": "8c894886",
   "metadata": {},
   "outputs": [
    {
     "name": "stdout",
     "output_type": "stream",
     "text": [
      "Random Forest Error: 5.70398366004812\n"
     ]
    }
   ],
   "source": [
    "from sklearn.ensemble import RandomForestRegressor\n",
    "random_for = RandomForestRegressor()\n",
    "random_for.fit(X1_train, Y_train)\n",
    "Y_predicted7 = random_for.predict(X1_test)\n",
    "l7 = mean_squared_error(Y_predicted7, Y_test, squared = False)\n",
    "print('Random Forest Error:', l7)"
   ]
  },
  {
   "cell_type": "markdown",
   "id": "255dfe31",
   "metadata": {},
   "source": [
    "#### 8. LightGBM"
   ]
  },
  {
   "cell_type": "code",
   "execution_count": 24,
   "id": "31387c09",
   "metadata": {},
   "outputs": [
    {
     "name": "stdout",
     "output_type": "stream",
     "text": [
      "LightGBM Error: 5.777314616510717\n"
     ]
    }
   ],
   "source": [
    "from lightgbm import LGBMRegressor\n",
    "light_reg = LGBMRegressor()\n",
    "light_reg.fit(X1_train,Y_train)\n",
    "Y_predicted8 = light_reg.predict(X1_test)\n",
    "l8 = mean_squared_error(Y_predicted8, Y_test,squared=False)\n",
    "print('LightGBM Error:', l8)\n"
   ]
  },
  {
   "cell_type": "markdown",
   "id": "abd8e565",
   "metadata": {},
   "source": [
    "# 2. One-Hot Encoding"
   ]
  },
  {
   "cell_type": "code",
   "execution_count": 26,
   "id": "d481aa02",
   "metadata": {},
   "outputs": [],
   "source": [
    "X2 = X.copy()\n",
    "X2 = pd.get_dummies(X2, columns = ['OP_UNIQUE_CARRIER','Wind','Condition'])\n",
    "from sklearn.preprocessing import LabelEncoder\n",
    "label_encoder = LabelEncoder()\n",
    "X2['DEST']=label_encoder.fit_transform(X2['DEST'].astype(str))\n",
    "X2['Dew Point']=label_encoder.fit_transform(X2['Dew Point'])\n",
    "\n",
    "# One_Hot encoding only for 'OP_UNIQUE_CARRIER','Wind','Condition' variables\n",
    "# Label encoding for DEST and Dew Point because unique values for them are more than 50."
   ]
  },
  {
   "cell_type": "code",
   "execution_count": 28,
   "id": "cb46382c",
   "metadata": {},
   "outputs": [
    {
     "name": "stdout",
     "output_type": "stream",
     "text": [
      "Input training dimensions: (24383, 69)\n",
      "Input testing dimensions: (2710, 69)\n",
      "Output training dimensions: (24383,)\n",
      "Output testing dimensions: (2710,)\n"
     ]
    }
   ],
   "source": [
    "from sklearn.model_selection import train_test_split\n",
    "X2_train,X2_test,Y_train,Y_test = train_test_split(X2,Y,test_size = 0.1)\n",
    "print('Input training dimensions:', X2_train.shape)\n",
    "print('Input testing dimensions:', X2_test.shape)\n",
    "print('Output training dimensions:', Y_train.shape)\n",
    "print('Output testing dimensions:', Y_test.shape)"
   ]
  },
  {
   "cell_type": "markdown",
   "id": "617f4146",
   "metadata": {},
   "source": [
    "### Training and Predicting"
   ]
  },
  {
   "cell_type": "code",
   "execution_count": 29,
   "id": "e60a6bd4",
   "metadata": {},
   "outputs": [],
   "source": [
    "from sklearn.metrics import mean_squared_error"
   ]
  },
  {
   "cell_type": "markdown",
   "id": "4294451e",
   "metadata": {},
   "source": [
    "#### 1. Linear Regression"
   ]
  },
  {
   "cell_type": "code",
   "execution_count": 30,
   "id": "fb6c0270",
   "metadata": {},
   "outputs": [
    {
     "name": "stdout",
     "output_type": "stream",
     "text": [
      "Linear Regression Error:  6.470769918370758\n"
     ]
    }
   ],
   "source": [
    "from sklearn.linear_model import LinearRegression\n",
    "linear_reg = LinearRegression()\n",
    "linear_reg.fit(X2_train,Y_train)\n",
    "Y_predicted1 = linear_reg.predict(X2_test)\n",
    "h1 = mean_squared_error(Y_predicted1,Y_test,squared = False)\n",
    "print('Linear Regression Error: ', h1)"
   ]
  },
  {
   "cell_type": "markdown",
   "id": "ee665deb",
   "metadata": {},
   "source": [
    "#### 2. Ridge Regression"
   ]
  },
  {
   "cell_type": "code",
   "execution_count": 32,
   "id": "6756a375",
   "metadata": {},
   "outputs": [
    {
     "name": "stdout",
     "output_type": "stream",
     "text": [
      "Ridge Regression Error:  6.470935420506287\n"
     ]
    }
   ],
   "source": [
    "from sklearn.linear_model import Ridge\n",
    "ridge_reg = Ridge()\n",
    "ridge_reg.fit(X2_train,Y_train)\n",
    "Y_predicted2 = ridge_reg.predict(X2_test)\n",
    "h2 = mean_squared_error(Y_predicted2, Y_test, squared = False)\n",
    "print('Ridge Regression Error: ', h2)"
   ]
  },
  {
   "cell_type": "markdown",
   "id": "7aba30e8",
   "metadata": {},
   "source": [
    "#### 3. Lasso Regression"
   ]
  },
  {
   "cell_type": "code",
   "execution_count": 34,
   "id": "550bb7f0",
   "metadata": {},
   "outputs": [
    {
     "name": "stdout",
     "output_type": "stream",
     "text": [
      "Lasso Regression Error:  6.602146442703057\n"
     ]
    }
   ],
   "source": [
    "from sklearn.linear_model import Lasso\n",
    "lasso_reg = Lasso()\n",
    "lasso_reg.fit(X2_train,Y_train)\n",
    "Y_predicted3 = lasso_reg.predict(X2_test)\n",
    "h3 = mean_squared_error(Y_predicted3, Y_test, squared = False)\n",
    "print('Lasso Regression Error: ', h3)"
   ]
  },
  {
   "cell_type": "markdown",
   "id": "f1358c6a",
   "metadata": {},
   "source": [
    "#### 4. KNN Model"
   ]
  },
  {
   "cell_type": "code",
   "execution_count": 36,
   "id": "fb6bf126",
   "metadata": {},
   "outputs": [
    {
     "name": "stdout",
     "output_type": "stream",
     "text": [
      "KNN Model Error:  6.645389939247315\n"
     ]
    }
   ],
   "source": [
    "from sklearn.neighbors import KNeighborsRegressor\n",
    "knn_reg = KNeighborsRegressor(n_neighbors = 200)\n",
    "knn_reg.fit(X2_train,Y_train)\n",
    "Y_predicted4=knn_reg.predict(X2_test)\n",
    "h4 = mean_squared_error(Y_predicted4,Y_test, squared =False)\n",
    "print('KNN Model Error: ', h4)"
   ]
  },
  {
   "cell_type": "markdown",
   "id": "09109201",
   "metadata": {},
   "source": [
    "#### 5. SVR"
   ]
  },
  {
   "cell_type": "code",
   "execution_count": 37,
   "id": "cffa090b",
   "metadata": {},
   "outputs": [
    {
     "name": "stdout",
     "output_type": "stream",
     "text": [
      "SVR Error:  6.2858937090000415\n"
     ]
    }
   ],
   "source": [
    "from sklearn.svm import SVR\n",
    "from sklearn.preprocessing import StandardScaler\n",
    "x2_train = X2_train.copy()\n",
    "x2_test = X2_test.copy()\n",
    "s1 = StandardScaler()\n",
    "s2 = StandardScaler()\n",
    "x2_train = s1.fit_transform(x2_train)\n",
    "x2_test = s2.fit_transform(x2_test)\n",
    "sv_reg  = SVR()\n",
    "sv_reg.fit(x2_train,Y_train)\n",
    "Y_predicted5 = sv_reg.predict(x2_test)\n",
    "h5 = mean_squared_error(Y_predicted5, Y_test, squared= False)\n",
    "print('SVR Error: ', h5)"
   ]
  },
  {
   "cell_type": "markdown",
   "id": "f868a316",
   "metadata": {},
   "source": [
    "#### 6. Naive Bays"
   ]
  },
  {
   "cell_type": "code",
   "execution_count": 38,
   "id": "9ff2dd22",
   "metadata": {},
   "outputs": [
    {
     "name": "stdout",
     "output_type": "stream",
     "text": [
      "Naive Bayes Error: 6.473188154080073\n"
     ]
    }
   ],
   "source": [
    "from sklearn.linear_model import BayesianRidge\n",
    "bayes_reg = BayesianRidge()\n",
    "bayes_reg.fit(X2_train, Y_train)\n",
    "Y_predicted6 = bayes_reg.predict(X2_test)\n",
    "h6 = mean_squared_error(Y_predicted6, Y_test,squared=False)\n",
    "print('Naive Bayes Error:', h6)"
   ]
  },
  {
   "cell_type": "markdown",
   "id": "d57a5e2e",
   "metadata": {},
   "source": [
    "#### 7. Random Forest"
   ]
  },
  {
   "cell_type": "code",
   "execution_count": 39,
   "id": "b06a56eb",
   "metadata": {},
   "outputs": [
    {
     "name": "stdout",
     "output_type": "stream",
     "text": [
      "Random Forest Error: 5.652006484981512\n"
     ]
    }
   ],
   "source": [
    "from sklearn.ensemble import RandomForestRegressor\n",
    "random_for = RandomForestRegressor()\n",
    "random_for.fit(X2_train, Y_train)\n",
    "Y_predicted7 = random_for.predict(X2_test)\n",
    "h7 = mean_squared_error(Y_predicted7, Y_test, squared = False)\n",
    "print('Random Forest Error:', h7)"
   ]
  },
  {
   "cell_type": "markdown",
   "id": "7cdd7b6b",
   "metadata": {},
   "source": [
    "#### 8. LightBGM"
   ]
  },
  {
   "cell_type": "code",
   "execution_count": 40,
   "id": "eae79b30",
   "metadata": {},
   "outputs": [
    {
     "name": "stdout",
     "output_type": "stream",
     "text": [
      "LightGBM Error: 5.763035235688627\n"
     ]
    }
   ],
   "source": [
    "from lightgbm import LGBMRegressor\n",
    "light_reg = LGBMRegressor()\n",
    "light_reg.fit(X2_train,Y_train)\n",
    "Y_predicted8 = light_reg.predict(X2_test)\n",
    "h8 = mean_squared_error(Y_predicted8, Y_test,squared=False)\n",
    "print('LightGBM Error:', h8)"
   ]
  },
  {
   "cell_type": "markdown",
   "id": "ddde1d8f",
   "metadata": {},
   "source": [
    "### Comparison And Conclusion"
   ]
  },
  {
   "cell_type": "markdown",
   "id": "5d4943f9",
   "metadata": {},
   "source": [
    "#### Label Encoding Errors(In Order):"
   ]
  },
  {
   "cell_type": "code",
   "execution_count": 41,
   "id": "527a4eb7",
   "metadata": {
    "scrolled": true
   },
   "outputs": [
    {
     "name": "stdout",
     "output_type": "stream",
     "text": [
      "6.540952645743153 6.540953600544131 6.564036154781706 6.665225836536187 6.324687473232338 6.544852510269603 5.70398366004812 5.777314616510717\n"
     ]
    }
   ],
   "source": [
    "print(l1,l2,l3,l4,l5,l6,l7,l8)"
   ]
  },
  {
   "cell_type": "markdown",
   "id": "788cfd7a",
   "metadata": {},
   "source": [
    "#### One Hot Encoding Errors(in Order)"
   ]
  },
  {
   "cell_type": "code",
   "execution_count": 42,
   "id": "b8443270",
   "metadata": {},
   "outputs": [
    {
     "name": "stdout",
     "output_type": "stream",
     "text": [
      "6.470769918370758 6.470935420506287 6.602146442703057 6.645389939247315 6.2858937090000415 6.473188154080073 5.652006484981512 5.763035235688627\n"
     ]
    }
   ],
   "source": [
    "print(h1,h2,h3,h4,h5,h6,h7,h8)"
   ]
  },
  {
   "cell_type": "code",
   "execution_count": 43,
   "id": "7fde7b4e",
   "metadata": {},
   "outputs": [],
   "source": [
    "import matplotlib.pyplot as plt\n",
    "from matplotlib import style"
   ]
  },
  {
   "cell_type": "code",
   "execution_count": 45,
   "id": "0aa45d91",
   "metadata": {},
   "outputs": [
    {
     "data": {
      "text/plain": [
       "<function matplotlib.pyplot.show(close=None, block=None)>"
      ]
     },
     "execution_count": 45,
     "metadata": {},
     "output_type": "execute_result"
    },
    {
     "data": {
      "image/png": "[encoded data removed]",
      "text/plain": [
       "<Figure size 432x288 with 1 Axes>"
      ]
     },
     "metadata": {},
     "output_type": "display_data"
    }
   ],
   "source": [
    "label_errors = np.array([l1,l2,l3,l4,l5,l6,l7,l8])\n",
    "onehot_errors = np.array([h1,h2,h3,h4,h5,h6,h7,h8])\n",
    "style.use(\"ggplot\")\n",
    "plt.plot([\"linear\",\"Ridge\",\"Lasso\",\"KNN\",\"SVR\",\"BR\",\"RandFor\",\"LGBM\"],label_errors, label=\"Label Encoding\")\n",
    "plt.plot([\"linear\",\"Ridge\",\"Lasso\",\"KNN\",\"SVR\",\"BR\",\"RandFor\",\"LGBM\"],onehot_errors, label=\"One Hot Encoding\")\n",
    "plt.legend([\"Label Encoding\",\"One Hot Encoding\"])\n",
    "plt.xlabel(\"ML Models\")\n",
    "plt.ylabel(\"RMSE\")\n",
    "plt.show"
   ]
  },
  {
   "cell_type": "markdown",
   "id": "f70783d2",
   "metadata": {},
   "source": [
    "#### 1. Clearly One hot encoding gives good predictions almost in every Machine Learning Model.\n",
    "#### 2. Random Forest is best out of all 8 algorithms for making predictions"
   ]
  },
  {
   "cell_type": "code",
   "execution_count": null,
   "id": "af7cb8ca",
   "metadata": {},
   "outputs": [],
   "source": []
  },
  {
   "cell_type": "code",
   "execution_count": null,
   "id": "f1156d2b",
   "metadata": {},
   "outputs": [],
   "source": []
  },
  {
   "cell_type": "code",
   "execution_count": null,
   "id": "8bf2138c",
   "metadata": {},
   "outputs": [],
   "source": []
  }
 ],
 "metadata": {
  "kernelspec": {
   "display_name": "Python 3",
   "language": "python",
   "name": "python3"
  },
  "language_info": {
   "codemirror_mode": {
    "name": "ipython",
    "version": 3
   },
   "file_extension": ".py",
   "mimetype": "text/x-python",
   "name": "python",
   "nbconvert_exporter": "python",
   "pygments_lexer": "ipython3",
   "version": "3.8.8"
  }
 },
 "nbformat": 4,
 "nbformat_minor": 5
}
